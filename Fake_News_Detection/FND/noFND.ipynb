{
 "cells": [
  {
   "cell_type": "code",
   "execution_count": 1,
   "id": "9f7195fb",
   "metadata": {},
   "outputs": [],
   "source": [
    "import pandas as pd\n",
    "from sklearn.feature_extraction.text import TfidfVectorizer \n",
    "from sklearn.naive_bayes import MultinomialNB\n",
    "from sklearn.model_selection import train_test_split\n",
    "from sklearn.metrics import accuracy_score, confusion_matrix\n",
    "from sklearn.model_selection import cross_val_score"
   ]
  },
  {
   "cell_type": "code",
   "execution_count": 2,
   "id": "6ed5d0db",
   "metadata": {},
   "outputs": [],
   "source": [
    "import opendatasets as od"
   ]
  },
  {
   "cell_type": "code",
   "execution_count": 3,
   "id": "05473f65",
   "metadata": {},
   "outputs": [],
   "source": [
    "dataset= 'https://www.kaggle.com/datasets/clmentbisaillon/fake-and-real-news-dataset?select=Fake.csv'"
   ]
  },
  {
   "cell_type": "code",
   "execution_count": 4,
   "id": "6dd91d87",
   "metadata": {},
   "outputs": [
    {
     "name": "stdout",
     "output_type": "stream",
     "text": [
      "Downloading fake-and-real-news-dataset.zip to .\\fake-and-real-news-dataset\n"
     ]
    },
    {
     "name": "stderr",
     "output_type": "stream",
     "text": [
      "100%|████████████████████████████████████████████████████████████████████████████████████████████████| 41.0M/41.0M [00:12<00:00, 3.54MB/s]\n"
     ]
    },
    {
     "name": "stdout",
     "output_type": "stream",
     "text": [
      "\n"
     ]
    }
   ],
   "source": [
    "od.download(dataset)"
   ]
  },
  {
   "cell_type": "code",
   "execution_count": null,
   "id": "301ca764",
   "metadata": {},
   "outputs": [],
   "source": [
    "df = pd.read_csv('train.csv')\n",
    "conversion_dict = {0: 'Real', 1: 'Fake'}\n",
    "df['label'] = df['label'].replace(conversion_dict)\n",
    "df.label.value_counts()"
   ]
  },
  {
   "cell_type": "code",
   "execution_count": null,
   "id": "d94bc72f",
   "metadata": {},
   "outputs": [],
   "source": [
    "df.head(5)"
   ]
  },
  {
   "cell_type": "code",
   "execution_count": null,
   "id": "e329bd0e",
   "metadata": {},
   "outputs": [],
   "source": [
    "df.isna().sum()"
   ]
  },
  {
   "cell_type": "code",
   "execution_count": null,
   "id": "ec507fcb",
   "metadata": {},
   "outputs": [],
   "source": [
    "df.fillna(\"missing\",inplace = True)"
   ]
  },
  {
   "cell_type": "code",
   "execution_count": null,
   "id": "b76bd5e7",
   "metadata": {},
   "outputs": [],
   "source": [
    "x_train,x_test,y_train,y_test=train_test_split(df['text'], df['label'], test_size=0.25, random_state=7, shuffle=True)\n",
    "tfidf_vectorizer=TfidfVectorizer(stop_words='english', max_df=0.75)"
   ]
  },
  {
   "cell_type": "code",
   "execution_count": null,
   "id": "dc38ca12",
   "metadata": {},
   "outputs": [],
   "source": [
    "vec_train=tfidf_vectorizer.fit_transform(x_train.values.astype(\"U\"))\n",
    "vec_test=tfidf_vectorizer.transform(x_test.values.astype(\"U\"))"
   ]
  },
  {
   "cell_type": "code",
   "execution_count": null,
   "id": "3d00557a",
   "metadata": {},
   "outputs": [],
   "source": [
    "pac=MultinomialNB(max_iter=50)\n",
    "pac.fit(vec_train,y_train)"
   ]
  },
  {
   "cell_type": "code",
   "execution_count": null,
   "id": "cb9fc3b1",
   "metadata": {},
   "outputs": [],
   "source": [
    "y_pred = pac.predict(vec_test)\n",
    "score = accuracy_score(y_test, y_pred)\n",
    "print(f\"PAC Accuracy: {round(score*100,2)}%\")"
   ]
  },
  {
   "cell_type": "code",
   "execution_count": null,
   "id": "46e68a60",
   "metadata": {},
   "outputs": [],
   "source": [
    "X = tfidf_vectorizer.transform(df['text'].values.astype('U'))"
   ]
  },
  {
   "cell_type": "code",
   "execution_count": null,
   "id": "ac923f79",
   "metadata": {},
   "outputs": [],
   "source": [
    "scores = cross_val_score(pac, X, df['label'].values, cv=5)\n",
    "print(f\"K Fold Accuracy: {round(scores.mean()*100,2)}%\")"
   ]
  },
  {
   "cell_type": "code",
   "execution_count": null,
   "id": "9978d24f",
   "metadata": {},
   "outputs": [],
   "source": [
    "df_true = pd.read_csv('True.csv')\n",
    "df_true['label'] = 'Real'\n",
    "df_true_rep = [df_true['text'][i].replace('WASHINGTON (Reuters) - ', '').replace('LONDON (Reuters) - ', '').replace('(Reuters) - ', '') for i in range(len(df_true['text']))]\n",
    "df_true['text'] = df_true_rep\n",
    "df_fake = pd.read_csv('Fake.csv')\n",
    "df_fake['label'] = 'Fake'\n",
    "df_final = pd.concat([df_true, df_fake])\n",
    "df_final = df_final.drop(['subject', 'date'], axis=1)\n",
    "df_fake"
   ]
  },
  {
   "cell_type": "code",
   "execution_count": null,
   "id": "7016058e",
   "metadata": {},
   "outputs": [],
   "source": [
    "def findlabel(newtext):\n",
    "    vec_newtest = tfidf_vectorizer.transform([newtext])\n",
    "    y_pred1 = pac.predict(vec_newtest)\n",
    "    return y_pred1[0]"
   ]
  },
  {
   "cell_type": "code",
   "execution_count": null,
   "id": "d9c10b79",
   "metadata": {},
   "outputs": [],
   "source": [
    "findlabel((df_true['text'][0]))"
   ]
  },
  {
   "cell_type": "code",
   "execution_count": null,
   "id": "7c856a55",
   "metadata": {},
   "outputs": [],
   "source": [
    "findlabel((df_fake['text'][0]))"
   ]
  },
  {
   "cell_type": "code",
   "execution_count": null,
   "id": "30533fdf",
   "metadata": {},
   "outputs": [],
   "source": [
    "sum([1 if findlabel((df_true['text'][i])) == 'Real' else 0 for i in range(len(df_true['text']))]) / df_true['text'].size"
   ]
  },
  {
   "cell_type": "code",
   "execution_count": null,
   "id": "00973157",
   "metadata": {},
   "outputs": [],
   "source": [
    "sum([1 if findlabel((df_fake['text'][i])) == 'Fake' else 0 for i in range(len(df_fake['text']))]) / df_fake['text'].size"
   ]
  },
  {
   "cell_type": "code",
   "execution_count": null,
   "id": "dc2cb983",
   "metadata": {},
   "outputs": [],
   "source": [
    "import joblib"
   ]
  },
  {
   "cell_type": "code",
   "execution_count": null,
   "id": "833d0c19",
   "metadata": {},
   "outputs": [],
   "source": [
    "joblib.dump(pac, 'model.sav')"
   ]
  },
  {
   "cell_type": "code",
   "execution_count": null,
   "id": "4a38f933",
   "metadata": {},
   "outputs": [],
   "source": [
    "joblib.dump(tfidf_vectorizer, 'vectorizer.sav')"
   ]
  },
  {
   "cell_type": "code",
   "execution_count": null,
   "id": "9a1bae3e",
   "metadata": {},
   "outputs": [],
   "source": []
  }
 ],
 "metadata": {
  "kernelspec": {
   "display_name": "Python 3 (ipykernel)",
   "language": "python",
   "name": "python3"
  },
  "language_info": {
   "codemirror_mode": {
    "name": "ipython",
    "version": 3
   },
   "file_extension": ".py",
   "mimetype": "text/x-python",
   "name": "python",
   "nbconvert_exporter": "python",
   "pygments_lexer": "ipython3",
   "version": "3.10.4"
  }
 },
 "nbformat": 4,
 "nbformat_minor": 5
}
