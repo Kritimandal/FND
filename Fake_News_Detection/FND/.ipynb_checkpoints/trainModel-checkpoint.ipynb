{
 "cells": [
  {
   "cell_type": "code",
   "execution_count": 1,
   "id": "53ab9e23",
   "metadata": {},
   "outputs": [],
   "source": [
    "import pandas as pd\n",
    "from sklearn.feature_extraction.text import TfidfVectorizer \n",
    "from sklearn.naive_bayes import MultinomialNB\n",
    "from sklearn.model_selection import train_test_split\n",
    "from sklearn.metrics import accuracy_score, confusion_matrix\n",
    "from sklearn.model_selection import cross_val_score"
   ]
  },
  {
   "cell_type": "code",
   "execution_count": 2,
   "id": "f42a8817",
   "metadata": {},
   "outputs": [],
   "source": [
    "import opendatasets as od"
   ]
  },
  {
   "cell_type": "code",
   "execution_count": 3,
   "id": "95b8972b",
   "metadata": {},
   "outputs": [],
   "source": [
    "dataset= 'https://www.kaggle.com/datasets/clmentbisaillon/fake-and-real-news-dataset?select=Fake.csv'"
   ]
  },
  {
   "cell_type": "code",
   "execution_count": 4,
   "id": "478345df",
   "metadata": {},
   "outputs": [
    {
     "name": "stdout",
     "output_type": "stream",
     "text": [
      "Downloading fake-and-real-news-dataset.zip to .\\fake-and-real-news-dataset\n"
     ]
    },
    {
     "name": "stderr",
     "output_type": "stream",
     "text": [
      "100%|████████████████████████████████████████████████████████████████████████████████████████████████| 41.0M/41.0M [00:12<00:00, 3.54MB/s]\n"
     ]
    },
    {
     "name": "stdout",
     "output_type": "stream",
     "text": [
      "\n"
     ]
    }
   ],
   "source": [
    "od.download(dataset)"
   ]
  },
  {
   "cell_type": "code",
   "execution_count": 5,
   "id": "c7851546",
   "metadata": {},
   "outputs": [
    {
     "data": {
      "text/plain": [
       "Fake    10413\n",
       "Real    10387\n",
       "Name: label, dtype: int64"
      ]
     },
     "execution_count": 5,
     "metadata": {},
     "output_type": "execute_result"
    }
   ],
   "source": [
    "df = pd.read_csv('train.csv')\n",
    "conversion_dict = {0: 'Real', 1: 'Fake'}\n",
    "df['label'] = df['label'].replace(conversion_dict)\n",
    "df.label.value_counts()"
   ]
  },
  {
   "cell_type": "code",
   "execution_count": 6,
   "id": "36b36a08",
   "metadata": {},
   "outputs": [
    {
     "data": {
      "text/html": [
       "<div>\n",
       "<style scoped>\n",
       "    .dataframe tbody tr th:only-of-type {\n",
       "        vertical-align: middle;\n",
       "    }\n",
       "\n",
       "    .dataframe tbody tr th {\n",
       "        vertical-align: top;\n",
       "    }\n",
       "\n",
       "    .dataframe thead th {\n",
       "        text-align: right;\n",
       "    }\n",
       "</style>\n",
       "<table border=\"1\" class=\"dataframe\">\n",
       "  <thead>\n",
       "    <tr style=\"text-align: right;\">\n",
       "      <th></th>\n",
       "      <th>id</th>\n",
       "      <th>title</th>\n",
       "      <th>author</th>\n",
       "      <th>text</th>\n",
       "      <th>label</th>\n",
       "    </tr>\n",
       "  </thead>\n",
       "  <tbody>\n",
       "    <tr>\n",
       "      <th>0</th>\n",
       "      <td>0</td>\n",
       "      <td>House Dem Aide: We Didn’t Even See Comey’s Let...</td>\n",
       "      <td>Darrell Lucus</td>\n",
       "      <td>House Dem Aide: We Didn’t Even See Comey’s Let...</td>\n",
       "      <td>Fake</td>\n",
       "    </tr>\n",
       "    <tr>\n",
       "      <th>1</th>\n",
       "      <td>1</td>\n",
       "      <td>FLYNN: Hillary Clinton, Big Woman on Campus - ...</td>\n",
       "      <td>Daniel J. Flynn</td>\n",
       "      <td>Ever get the feeling your life circles the rou...</td>\n",
       "      <td>Real</td>\n",
       "    </tr>\n",
       "    <tr>\n",
       "      <th>2</th>\n",
       "      <td>2</td>\n",
       "      <td>Why the Truth Might Get You Fired</td>\n",
       "      <td>Consortiumnews.com</td>\n",
       "      <td>Why the Truth Might Get You Fired October 29, ...</td>\n",
       "      <td>Fake</td>\n",
       "    </tr>\n",
       "    <tr>\n",
       "      <th>3</th>\n",
       "      <td>3</td>\n",
       "      <td>15 Civilians Killed In Single US Airstrike Hav...</td>\n",
       "      <td>Jessica Purkiss</td>\n",
       "      <td>Videos 15 Civilians Killed In Single US Airstr...</td>\n",
       "      <td>Fake</td>\n",
       "    </tr>\n",
       "    <tr>\n",
       "      <th>4</th>\n",
       "      <td>4</td>\n",
       "      <td>Iranian woman jailed for fictional unpublished...</td>\n",
       "      <td>Howard Portnoy</td>\n",
       "      <td>Print \\nAn Iranian woman has been sentenced to...</td>\n",
       "      <td>Fake</td>\n",
       "    </tr>\n",
       "  </tbody>\n",
       "</table>\n",
       "</div>"
      ],
      "text/plain": [
       "   id                                              title              author  \\\n",
       "0   0  House Dem Aide: We Didn’t Even See Comey’s Let...       Darrell Lucus   \n",
       "1   1  FLYNN: Hillary Clinton, Big Woman on Campus - ...     Daniel J. Flynn   \n",
       "2   2                  Why the Truth Might Get You Fired  Consortiumnews.com   \n",
       "3   3  15 Civilians Killed In Single US Airstrike Hav...     Jessica Purkiss   \n",
       "4   4  Iranian woman jailed for fictional unpublished...      Howard Portnoy   \n",
       "\n",
       "                                                text label  \n",
       "0  House Dem Aide: We Didn’t Even See Comey’s Let...  Fake  \n",
       "1  Ever get the feeling your life circles the rou...  Real  \n",
       "2  Why the Truth Might Get You Fired October 29, ...  Fake  \n",
       "3  Videos 15 Civilians Killed In Single US Airstr...  Fake  \n",
       "4  Print \\nAn Iranian woman has been sentenced to...  Fake  "
      ]
     },
     "execution_count": 6,
     "metadata": {},
     "output_type": "execute_result"
    }
   ],
   "source": [
    "df.head(5)"
   ]
  },
  {
   "cell_type": "code",
   "execution_count": 7,
   "id": "e788e283",
   "metadata": {},
   "outputs": [
    {
     "data": {
      "text/plain": [
       "id           0\n",
       "title      558\n",
       "author    1957\n",
       "text        39\n",
       "label        0\n",
       "dtype: int64"
      ]
     },
     "execution_count": 7,
     "metadata": {},
     "output_type": "execute_result"
    }
   ],
   "source": [
    "df.isna().sum()"
   ]
  },
  {
   "cell_type": "code",
   "execution_count": 8,
   "id": "39225b96",
   "metadata": {},
   "outputs": [],
   "source": [
    "df.fillna(\"missing\",inplace = True)"
   ]
  },
  {
   "cell_type": "code",
   "execution_count": 9,
   "id": "882801af",
   "metadata": {},
   "outputs": [],
   "source": [
    "x_train,x_test,y_train,y_test=train_test_split(df['text'], df['label'], test_size=0.25, random_state=7, shuffle=True)\n",
    "tfidf_vectorizer=TfidfVectorizer(stop_words='english', max_df=0.75)"
   ]
  },
  {
   "cell_type": "code",
   "execution_count": null,
   "id": "d90a5638",
   "metadata": {},
   "outputs": [],
   "source": [
    "vec_train=tfidf_vectorizer.fit_transform(x_train.values.astype(\"U\"))\n",
    "vec_test=tfidf_vectorizer.transform(x_test.values.astype(\"U\"))"
   ]
  },
  {
   "cell_type": "code",
   "execution_count": null,
   "id": "783fd25c",
   "metadata": {},
   "outputs": [],
   "source": [
    "pac=MultinomialNB(max_iter=50)\n",
    "pac.fit(vec_train,y_train)"
   ]
  },
  {
   "cell_type": "code",
   "execution_count": null,
   "id": "08c6e2d1",
   "metadata": {},
   "outputs": [],
   "source": [
    "y_pred = pac.predict(vec_test)\n",
    "score = accuracy_score(y_test, y_pred)\n",
    "print(f\"PAC Accuracy: {round(score*100,2)}%\")"
   ]
  },
  {
   "cell_type": "code",
   "execution_count": null,
   "id": "3155d10d",
   "metadata": {},
   "outputs": [],
   "source": [
    "X = tfidf_vectorizer.transform(df['text'].values.astype('U'))"
   ]
  },
  {
   "cell_type": "code",
   "execution_count": null,
   "id": "111f2c2e",
   "metadata": {},
   "outputs": [],
   "source": [
    "scores = cross_val_score(pac, X, df['label'].values, cv=5)\n",
    "print(f\"K Fold Accuracy: {round(scores.mean()*100,2)}%\")"
   ]
  },
  {
   "cell_type": "code",
   "execution_count": null,
   "id": "11aee35b",
   "metadata": {},
   "outputs": [],
   "source": [
    "df_true = pd.read_csv('True.csv')\n",
    "df_true['label'] = 'Real'\n",
    "df_true_rep = [df_true['text'][i].replace('WASHINGTON (Reuters) - ', '').replace('LONDON (Reuters) - ', '').replace('(Reuters) - ', '') for i in range(len(df_true['text']))]\n",
    "df_true['text'] = df_true_rep\n",
    "df_fake = pd.read_csv('Fake.csv')\n",
    "df_fake['label'] = 'Fake'\n",
    "df_final = pd.concat([df_true, df_fake])\n",
    "df_final = df_final.drop(['subject', 'date'], axis=1)\n",
    "df_fake"
   ]
  },
  {
   "cell_type": "code",
   "execution_count": null,
   "id": "30af118e",
   "metadata": {},
   "outputs": [],
   "source": [
    "def findlabel(newtext):\n",
    "    vec_newtest = tfidf_vectorizer.transform([newtext])\n",
    "    y_pred1 = pac.predict(vec_newtest)\n",
    "    return y_pred1[0]"
   ]
  },
  {
   "cell_type": "code",
   "execution_count": null,
   "id": "09f611f4",
   "metadata": {},
   "outputs": [],
   "source": [
    "findlabel((df_true['text'][0]))"
   ]
  },
  {
   "cell_type": "code",
   "execution_count": null,
   "id": "3c9072fd",
   "metadata": {},
   "outputs": [],
   "source": [
    "findlabel((df_fake['text'][0]))"
   ]
  },
  {
   "cell_type": "code",
   "execution_count": null,
   "id": "37f59afc",
   "metadata": {},
   "outputs": [],
   "source": [
    "sum([1 if findlabel((df_true['text'][i])) == 'Real' else 0 for i in range(len(df_true['text']))]) / df_true['text'].size"
   ]
  },
  {
   "cell_type": "code",
   "execution_count": null,
   "id": "5e263de4",
   "metadata": {},
   "outputs": [],
   "source": [
    "sum([1 if findlabel((df_fake['text'][i])) == 'Fake' else 0 for i in range(len(df_fake['text']))]) / df_fake['text'].size"
   ]
  },
  {
   "cell_type": "code",
   "execution_count": null,
   "id": "b2ac8f21",
   "metadata": {},
   "outputs": [],
   "source": [
    "import joblib"
   ]
  },
  {
   "cell_type": "code",
   "execution_count": null,
   "id": "171f9f0d",
   "metadata": {},
   "outputs": [],
   "source": [
    "joblib.dump(pac, 'model.sav')"
   ]
  },
  {
   "cell_type": "code",
   "execution_count": null,
   "id": "73159ef9",
   "metadata": {},
   "outputs": [],
   "source": [
    "joblib.dump(tfidf_vectorizer, 'vectorizer.sav')"
   ]
  },
  {
   "cell_type": "code",
   "execution_count": null,
   "id": "e3342179",
   "metadata": {},
   "outputs": [],
   "source": [
    "findlabel((df_fake['text'][0]))"
   ]
  },
  {
   "cell_type": "code",
   "execution_count": null,
   "id": "56d4b3ab",
   "metadata": {},
   "outputs": [],
   "source": []
  },
  {
   "cell_type": "code",
   "execution_count": null,
   "id": "592955ba",
   "metadata": {},
   "outputs": [],
   "source": []
  }
 ],
 "metadata": {
  "kernelspec": {
   "display_name": "Python 3 (ipykernel)",
   "language": "python",
   "name": "python3"
  },
  "language_info": {
   "codemirror_mode": {
    "name": "ipython",
    "version": 3
   },
   "file_extension": ".py",
   "mimetype": "text/x-python",
   "name": "python",
   "nbconvert_exporter": "python",
   "pygments_lexer": "ipython3",
   "version": "3.10.4"
  }
 },
 "nbformat": 4,
 "nbformat_minor": 5
}
